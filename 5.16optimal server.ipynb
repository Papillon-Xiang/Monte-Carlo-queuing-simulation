{
 "cells": [
  {
   "cell_type": "code",
   "execution_count": 1,
   "metadata": {},
   "outputs": [],
   "source": [
    "import numpy as np\n",
    "import queue\n",
    "import copy\n",
    "import matplotlib.pyplot as plt\n"
   ]
  },
  {
   "cell_type": "code",
   "execution_count": 2,
   "metadata": {},
   "outputs": [
    {
     "name": "stdout",
     "output_type": "stream",
     "text": [
      "28\n"
     ]
    }
   ],
   "source": [
    "# unit: hour\n",
    "#即核酸检测有两个小时的检测窗口 eg. 9-11 a.m. \n",
    "#假设所有人都在这个区间进行检测👉后续可以优化\n",
    "# simulation(hours)\n",
    "#arrival rate (/hour) i.e. 2 per min\n",
    "#service rate (/hour) 这里考虑改进前 即50s左右\n",
    "#我们假设在正式检测开始之前，已经有人开始排队👉即这里的‘begin', 是一个0-30之间的随机整数\n",
    "#number of server\n",
    "\n",
    "begin = np.random.randint(0,30)\n",
    "c = 3\n",
    "total_time = 2\n",
    "IAT_rate = 120\n",
    "ST_rate = 72*c\n",
    "rho = IAT_rate/ST_rate\n",
    "print(begin)"
   ]
  },
  {
   "cell_type": "code",
   "execution_count": 3,
   "metadata": {},
   "outputs": [],
   "source": [
    "# Initialize Parameters\n",
    "# IAT  empty array for putting random number inter-arrival time\n",
    "# St   ... for serving time rate\n",
    "# AT: arrival times\n",
    "# ST: serve time\n",
    "\n",
    "\n",
    "qu = queue.Queue()\n",
    "curr_process = None\n",
    "IAT = []\n",
    "ST = []\n",
    "AT = []\n",
    "wait_time = []\n",
    "server_busy = False\n",
    "list_wait = []\n",
    "list_delay = []\n"
   ]
  },
  {
   "cell_type": "code",
   "execution_count": 4,
   "metadata": {},
   "outputs": [
    {
     "name": "stdout",
     "output_type": "stream",
     "text": [
      "244\n",
      "28\n",
      "272\n"
     ]
    }
   ],
   "source": [
    "# num_processes 即一共有多少个人在检测窗口里来做核酸检测\n",
    "\n",
    "num_processes = int(np.random.poisson(IAT_rate)* total_time) \n",
    "total_people = num_processes + begin\n",
    "num_processes_served = 0\n",
    "print(num_processes)\n",
    "print(begin)\n",
    "print(total_people)"
   ]
  },
  {
   "cell_type": "code",
   "execution_count": 5,
   "metadata": {},
   "outputs": [],
   "source": [
    "IAT_new = []"
   ]
  },
  {
   "cell_type": "code",
   "execution_count": 6,
   "metadata": {},
   "outputs": [
    {
     "name": "stdout",
     "output_type": "stream",
     "text": [
      "[0, 0, 0, 0, 0, 0, 0, 0, 0, 0, 0, 0, 0, 0, 0, 0, 0, 0, 0, 0, 0, 0, 0, 0, 0, 0, 0, 0, 4, 30, 34, 13, 2, 6, 123, 103, 12, 117, 12, 69, 25, 9, 0, 1, 8, 11, 0, 9, 13, 20, 25, 34, 19, 16, 42, 5, 21, 16, 18, 7, 44, 4, 40, 30, 16, 2, 16, 33, 92, 20, 26, 26, 88, 71, 13, 74, 5, 9, 10, 0, 20, 17, 43, 23, 19, 34, 33, 28, 15, 12, 10, 4, 45, 18, 74, 29, 26, 7, 6, 4, 5, 4, 38, 54, 19, 149, 51, 40, 12, 18, 8, 16, 31, 14, 57, 40, 4, 15, 26, 39, 13, 38, 8, 10, 64, 2, 9, 4, 16, 18, 10, 5, 24, 21, 13, 7, 12, 10, 17, 10, 41, 6, 9, 12, 17, 7, 3, 16, 3, 17, 3, 7, 4, 81, 64, 7, 9, 5, 40, 49, 41, 70, 53, 5, 18, 0, 19, 65, 5, 0, 62, 25, 1, 113, 8, 61, 4, 19, 21, 4, 38, 78, 6, 12, 21, 53, 26, 30, 53, 13, 21, 5, 22, 48, 122, 15, 31, 50, 9, 8, 47, 47, 22, 40, 81, 79, 79, 0, 22, 13, 39, 7, 58, 39, 20, 69, 102, 19, 23, 19, 15, 1, 65, 67, 32, 103, 10, 18, 32, 43, 27, 60, 58, 93, 19, 6, 26, 0, 7, 20, 4, 4, 0, 9, 17, 2, 36, 16, 66, 3, 57, 16, 25, 10, 7, 51, 13, 56, 32, 88, 26, 57, 32, 8, 23, 18, 0, 36, 21, 13, 12, 30]\n"
     ]
    }
   ],
   "source": [
    "#Populate new Inter-Arrival-Times (IAT_new)\n",
    "#即在正式检测开始之前到达的人的inter arrival time=0\n",
    "\n",
    "for i in range(total_people):\n",
    "    temp = np.random.exponential(1/IAT_rate)*60*60\n",
    "    if i<begin:\n",
    "        IAT_new.append(0)\n",
    "        i=i+1\n",
    "    else: \n",
    "        IAT_new.append(int(temp-temp%1))\n",
    "\n",
    "print(IAT_new)\n"
   ]
  },
  {
   "cell_type": "code",
   "execution_count": 7,
   "metadata": {},
   "outputs": [
    {
     "name": "stdout",
     "output_type": "stream",
     "text": [
      "[55, 4, 9, 29, 15, 55, 18, 7, 28, 29, 18, 16, 6, 10, 11, 24, 16, 5, 7, 49, 4, 6, 16, 5, 8, 5, 2, 98, 34, 1, 8, 2, 24, 29, 24, 36, 1, 8, 13, 3, 1, 24, 10, 10, 40, 5, 3, 13, 7, 34, 15, 10, 15, 36, 7, 12, 8, 5, 10, 22, 2, 31, 19, 18, 19, 12, 20, 4, 13, 23, 6, 40, 8, 2, 26, 23, 11, 32, 15, 2, 12, 28, 35, 24, 85, 27, 26, 1, 22, 23, 18, 25, 1, 20, 1, 28, 5, 32, 2, 26, 3, 13, 4, 14, 1, 6, 4, 3, 31, 16, 13, 19, 1, 3, 22, 13, 15, 19, 54, 4, 3, 9, 15, 10, 28, 1, 6, 57, 51, 7, 1, 36, 6, 2, 3, 1, 14, 59, 28, 8, 30, 4, 15, 14, 7, 9, 7, 2, 30, 7, 10, 15, 17, 42, 2, 4, 6, 20, 4, 17, 7, 3, 10, 41, 27, 2, 6, 10, 13, 24, 34, 26, 50, 29, 14, 13, 5, 19, 11, 7, 40, 32, 6, 7, 7, 4, 29, 36, 1, 50, 7, 16, 11, 3, 48, 15, 16, 22, 4, 4, 31, 15, 35, 12, 3, 6, 14, 37, 9, 20, 23, 33, 5, 1, 31, 1, 25, 1, 59, 10, 5, 8, 2, 5, 5, 44, 40, 23, 18, 32, 2, 14, 40, 29, 24, 68, 4, 10, 49, 5, 78, 41, 8, 15, 11, 2, 25, 19, 16, 28, 6, 14, 2, 20, 42, 9, 15, 24, 14, 31, 58, 13, 8, 7, 42, 52, 12, 11, 62, 7, 3, 7]\n"
     ]
    }
   ],
   "source": [
    "# Populate Service-Times (ST) (where ST[i]!=0)\n",
    "\n",
    "while not len(ST) == total_people:\n",
    "    temp = np.random.exponential(1/ST_rate)*60*60\n",
    "    if not int(temp- temp%1)<1:\n",
    "        ST.append(int(temp - temp%1))\n",
    "\n",
    "print(ST)"
   ]
  },
  {
   "cell_type": "code",
   "execution_count": 8,
   "metadata": {},
   "outputs": [],
   "source": [
    "# save a copy of ST\n",
    "\n",
    "ST_copy = copy.deepcopy(ST)"
   ]
  },
  {
   "cell_type": "code",
   "execution_count": 9,
   "metadata": {},
   "outputs": [],
   "source": [
    "AT_new = []"
   ]
  },
  {
   "cell_type": "code",
   "execution_count": 10,
   "metadata": {},
   "outputs": [
    {
     "name": "stdout",
     "output_type": "stream",
     "text": [
      "[0, 0, 0, 0, 0, 0, 0, 0, 0, 0, 0, 0, 0, 0, 0, 0, 0, 0, 0, 0, 0, 0, 0, 0, 0, 0, 0, 0, 4, 34, 68, 81, 83, 89, 212, 315, 327, 444, 456, 525, 550, 559, 559, 560, 568, 579, 579, 588, 601, 621, 646, 680, 699, 715, 757, 762, 783, 799, 817, 824, 868, 872, 912, 942, 958, 960, 976, 1009, 1101, 1121, 1147, 1173, 1261, 1332, 1345, 1419, 1424, 1433, 1443, 1443, 1463, 1480, 1523, 1546, 1565, 1599, 1632, 1660, 1675, 1687, 1697, 1701, 1746, 1764, 1838, 1867, 1893, 1900, 1906, 1910, 1915, 1919, 1957, 2011, 2030, 2179, 2230, 2270, 2282, 2300, 2308, 2324, 2355, 2369, 2426, 2466, 2470, 2485, 2511, 2550, 2563, 2601, 2609, 2619, 2683, 2685, 2694, 2698, 2714, 2732, 2742, 2747, 2771, 2792, 2805, 2812, 2824, 2834, 2851, 2861, 2902, 2908, 2917, 2929, 2946, 2953, 2956, 2972, 2975, 2992, 2995, 3002, 3006, 3087, 3151, 3158, 3167, 3172, 3212, 3261, 3302, 3372, 3425, 3430, 3448, 3448, 3467, 3532, 3537, 3537, 3599, 3624, 3625, 3738, 3746, 3807, 3811, 3830, 3851, 3855, 3893, 3971, 3977, 3989, 4010, 4063, 4089, 4119, 4172, 4185, 4206, 4211, 4233, 4281, 4403, 4418, 4449, 4499, 4508, 4516, 4563, 4610, 4632, 4672, 4753, 4832, 4911, 4911, 4933, 4946, 4985, 4992, 5050, 5089, 5109, 5178, 5280, 5299, 5322, 5341, 5356, 5357, 5422, 5489, 5521, 5624, 5634, 5652, 5684, 5727, 5754, 5814, 5872, 5965, 5984, 5990, 6016, 6016, 6023, 6043, 6047, 6051, 6051, 6060, 6077, 6079, 6115, 6131, 6197, 6200, 6257, 6273, 6298, 6308, 6315, 6366, 6379, 6435, 6467, 6555, 6581, 6638, 6670, 6678, 6701, 6719, 6719, 6755, 6776, 6789, 6801, 6831]\n"
     ]
    }
   ],
   "source": [
    "# Get new Arrival-Times (AT) from IAT starting at t=0 \n",
    "# 生成到达时间队列\n",
    "# and initialize Waiting-Times to 0\n",
    "\n",
    "for i in range(total_people):\n",
    "    if i<begin:\n",
    "        AT_new.append(0)\n",
    "        i=i+1\n",
    "    else:\n",
    "        AT_new.append(IAT_new[i]+AT_new[i-1])\n",
    "    wait_time.append(0)\n",
    "\n",
    "print(AT_new)\n"
   ]
  },
  {
   "cell_type": "code",
   "execution_count": 11,
   "metadata": {},
   "outputs": [],
   "source": [
    "# simulate M/M/1 queue\n",
    "\n",
    "for i in range(total_time*60*60):    \n",
    "    if server_busy:\n",
    "        for item in list(qu.queue):\n",
    "            wait_time[item] = wait_time[item] + 1\n",
    "        ST[curr_process] = ST[curr_process] - 1\n",
    "        if ST[curr_process] == 0:\n",
    "            server_busy = False\n",
    "            num_processes_served = num_processes_served + 1\n",
    "\n",
    "    for j in range(total_people):\n",
    "        if i== AT_new[j]:\n",
    "            qu.put(j)\n",
    "\n",
    "    if not server_busy and not qu.empty():\n",
    "        curr_process = qu.get()\n",
    "        server_busy = True\n",
    "        \n"
   ]
  },
  {
   "cell_type": "code",
   "execution_count": 12,
   "metadata": {},
   "outputs": [],
   "source": [
    "# 总共等待时间\n",
    "# 总共delay时间 = total time in the system \n",
    "# delay = waiting time + serve time\n",
    "sum_wait = 0\n",
    "sum_delay = 0"
   ]
  },
  {
   "cell_type": "code",
   "execution_count": 14,
   "metadata": {},
   "outputs": [],
   "source": [
    "for i in range(num_processes_served):\n",
    "    sum_wait = sum_wait + wait_time[i]\n",
    "    sum_delay = sum_delay + wait_time[i] + ST_copy[i]\n",
    "    \n",
    "if num_processes_served == 0:\n",
    "    list_wait.append(0)\n",
    "    list_delay.append(0)\n",
    "else:\n",
    "    list_wait.append(sum_wait/(num_processes_served*60*60))  \n",
    "    list_delay.append(sum_delay/(num_processes_served*60*60))\n"
   ]
  },
  {
   "cell_type": "code",
   "execution_count": 15,
   "metadata": {},
   "outputs": [
    {
     "name": "stdout",
     "output_type": "stream",
     "text": [
      "272\n",
      "28\n",
      "244\n",
      "272\n"
     ]
    }
   ],
   "source": [
    "print(total_people)\n",
    "print(begin)\n",
    "print(num_processes)\n",
    "print(num_processes_served)"
   ]
  },
  {
   "cell_type": "code",
   "execution_count": 16,
   "metadata": {},
   "outputs": [
    {
     "name": "stdout",
     "output_type": "stream",
     "text": [
      "0.027624591503267973\n",
      "0.03259395424836601\n",
      "1.6574754901960784\n"
     ]
    }
   ],
   "source": [
    "#平均等待时间 in hour\n",
    "print(sum_wait/(num_processes_served*60*60))\n",
    "print(sum_delay/(num_processes_served*60*60))\n",
    "\n",
    "# 平均等待时间 in minute\n",
    "print(sum_wait/(num_processes_served*60))"
   ]
  },
  {
   "cell_type": "code",
   "execution_count": 17,
   "metadata": {},
   "outputs": [
    {
     "ename": "NameError",
     "evalue": "name 'worktime' is not defined",
     "output_type": "error",
     "traceback": [
      "\u001b[1;31m---------------------------------------------------------------------------\u001b[0m",
      "\u001b[1;31mNameError\u001b[0m                                 Traceback (most recent call last)",
      "\u001b[1;32m<ipython-input-17-62cec9ac93ef>\u001b[0m in \u001b[0;36m<module>\u001b[1;34m\u001b[0m\n\u001b[1;32m----> 1\u001b[1;33m \u001b[0mprint\u001b[0m\u001b[1;33m(\u001b[0m\u001b[1;33m(\u001b[0m\u001b[1;36m6000\u001b[0m\u001b[1;33m/\u001b[0m\u001b[0mworktime\u001b[0m\u001b[1;33m)\u001b[0m\u001b[1;33m*\u001b[0m\u001b[1;36m2\u001b[0m\u001b[1;33m)\u001b[0m\u001b[1;33m\u001b[0m\u001b[1;33m\u001b[0m\u001b[0m\n\u001b[0m\u001b[0;32m      2\u001b[0m \u001b[0mprint\u001b[0m\u001b[1;33m(\u001b[0m\u001b[0msalary\u001b[0m\u001b[1;33m/\u001b[0m\u001b[0mworktime\u001b[0m\u001b[1;33m)\u001b[0m\u001b[1;33m\u001b[0m\u001b[1;33m\u001b[0m\u001b[0m\n",
      "\u001b[1;31mNameError\u001b[0m: name 'worktime' is not defined"
     ]
    }
   ],
   "source": [
    "print((6000/worktime)*2)\n",
    "print(salary/worktime)"
   ]
  }
 ],
 "metadata": {
  "interpreter": {
   "hash": "959130ce67bcf0bac542abd884edbecea11cfa21a554847bc76324cd5126d901"
  },
  "kernelspec": {
   "display_name": "Python 3.7.12 ('py37')",
   "language": "python",
   "name": "python3"
  },
  "language_info": {
   "codemirror_mode": {
    "name": "ipython",
    "version": 3
   },
   "file_extension": ".py",
   "mimetype": "text/x-python",
   "name": "python",
   "nbconvert_exporter": "python",
   "pygments_lexer": "ipython3",
   "version": "3.7.12"
  },
  "orig_nbformat": 4
 },
 "nbformat": 4,
 "nbformat_minor": 2
}
