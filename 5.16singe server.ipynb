{
 "cells": [
  {
   "cell_type": "code",
   "execution_count": 1,
   "metadata": {},
   "outputs": [],
   "source": [
    "import numpy as np\n",
    "import queue\n",
    "import copy\n",
    "import matplotlib.pyplot as plt\n"
   ]
  },
  {
   "cell_type": "code",
   "execution_count": 3,
   "metadata": {},
   "outputs": [
    {
     "name": "stdout",
     "output_type": "stream",
     "text": [
      "11\n"
     ]
    }
   ],
   "source": [
    "# unit: hour\n",
    "#即核酸检测有两个小时的检测窗口 eg. 9-11 a.m. \n",
    "#假设所有人都在这个区间进行检测👉后续可以优化\n",
    "# simulation(hours)\n",
    "#arrival rate (/hour) i.e. 2 per min\n",
    "#service rate (/hour) 这里考虑改进前 即50s左右\n",
    "#我们假设在正式检测开始之前，已经有人开始排队👉即这里的‘begin', 是一个0-30之间的随机整数\n",
    "#number of server\n",
    "\n",
    "begin = np.random.randint(0,30)\n",
    "c = 1\n",
    "total_time = 2\n",
    "IAT_rate = 120\n",
    "ST_rate = 72*c\n",
    "rho = IAT_rate/ST_rate\n",
    "print(begin)"
   ]
  },
  {
   "cell_type": "code",
   "execution_count": 4,
   "metadata": {},
   "outputs": [],
   "source": [
    "# Initialize Parameters\n",
    "# IAT  empty array for putting random number inter-arrival time\n",
    "# St   ... for serving time rate\n",
    "# AT: arrival times\n",
    "# ST: serve time\n",
    "\n",
    "\n",
    "qu = queue.Queue()\n",
    "curr_process = None\n",
    "IAT = []\n",
    "ST = []\n",
    "AT = []\n",
    "wait_time = []\n",
    "server_busy = False\n",
    "list_wait = []\n",
    "list_delay = []\n"
   ]
  },
  {
   "cell_type": "code",
   "execution_count": 5,
   "metadata": {},
   "outputs": [
    {
     "name": "stdout",
     "output_type": "stream",
     "text": [
      "244\n",
      "11\n",
      "255\n"
     ]
    }
   ],
   "source": [
    "# num_processes 即一共有多少个人在检测窗口里来做核酸检测\n",
    "\n",
    "num_processes = int(np.random.poisson(IAT_rate)* total_time) \n",
    "total_people = num_processes + begin\n",
    "num_processes_served = 0\n",
    "print(num_processes)\n",
    "print(begin)\n",
    "print(total_people)"
   ]
  },
  {
   "cell_type": "code",
   "execution_count": 6,
   "metadata": {},
   "outputs": [],
   "source": [
    "IAT_new = []"
   ]
  },
  {
   "cell_type": "code",
   "execution_count": 7,
   "metadata": {},
   "outputs": [
    {
     "name": "stdout",
     "output_type": "stream",
     "text": [
      "[0, 0, 0, 0, 0, 0, 0, 0, 0, 0, 0, 85, 22, 2, 82, 36, 8, 20, 15, 6, 9, 0, 16, 34, 53, 156, 27, 52, 5, 7, 92, 55, 1, 31, 7, 84, 29, 53, 16, 6, 2, 28, 20, 19, 15, 68, 10, 6, 8, 24, 36, 11, 50, 37, 29, 20, 6, 12, 36, 73, 60, 17, 33, 39, 21, 27, 22, 46, 11, 48, 12, 26, 27, 45, 90, 46, 10, 12, 6, 2, 11, 85, 62, 13, 34, 13, 17, 52, 8, 28, 66, 71, 23, 37, 181, 18, 111, 73, 20, 28, 39, 25, 0, 0, 24, 15, 42, 5, 2, 16, 0, 13, 0, 38, 37, 43, 31, 8, 12, 7, 8, 27, 17, 26, 1, 5, 82, 5, 41, 34, 12, 4, 26, 22, 13, 35, 9, 1, 7, 124, 0, 16, 58, 19, 20, 47, 16, 6, 58, 0, 5, 14, 3, 5, 6, 10, 67, 12, 14, 8, 41, 8, 34, 16, 3, 61, 30, 13, 5, 14, 54, 101, 49, 45, 14, 58, 36, 36, 78, 11, 17, 9, 17, 3, 3, 1, 131, 16, 37, 63, 34, 73, 3, 27, 61, 22, 34, 19, 98, 49, 8, 24, 9, 3, 9, 58, 33, 62, 48, 131, 18, 92, 82, 47, 33, 96, 49, 32, 12, 73, 20, 38, 109, 3, 57, 24, 8, 53, 6, 25, 8, 1, 39, 4, 4, 49, 125, 46, 0, 31, 3, 4, 40, 15, 15, 5, 56, 10, 11, 29, 16, 4, 7, 9, 20]\n"
     ]
    }
   ],
   "source": [
    "#Populate new Inter-Arrival-Times (IAT_new)\n",
    "#即在正式检测开始之前到达的人的inter arrival time=0\n",
    "\n",
    "for i in range(total_people):\n",
    "    temp = np.random.exponential(1/IAT_rate)*60*60\n",
    "    if i<begin:\n",
    "        IAT_new.append(0)\n",
    "        i=i+1\n",
    "    else: \n",
    "        IAT_new.append(int(temp-temp%1))\n",
    "\n",
    "print(IAT_new)\n"
   ]
  },
  {
   "cell_type": "code",
   "execution_count": 8,
   "metadata": {},
   "outputs": [
    {
     "name": "stdout",
     "output_type": "stream",
     "text": [
      "[6, 9, 72, 21, 16, 52, 50, 184, 10, 45, 1, 5, 83, 138, 4, 167, 15, 5, 20, 20, 87, 21, 14, 40, 2, 13, 5, 54, 88, 37, 30, 19, 47, 4, 64, 28, 100, 9, 37, 3, 3, 18, 192, 9, 57, 98, 97, 45, 129, 7, 23, 104, 166, 83, 108, 204, 77, 137, 82, 91, 68, 29, 85, 54, 12, 72, 33, 19, 39, 26, 53, 23, 27, 13, 64, 12, 138, 73, 50, 180, 21, 5, 8, 110, 23, 30, 65, 8, 138, 24, 40, 194, 19, 89, 50, 14, 10, 26, 114, 117, 162, 205, 84, 14, 27, 16, 34, 1, 19, 117, 12, 47, 197, 12, 49, 12, 6, 7, 106, 51, 178, 116, 49, 57, 8, 8, 13, 143, 3, 28, 15, 12, 7, 78, 28, 26, 49, 4, 129, 23, 3, 80, 22, 29, 31, 45, 157, 6, 16, 106, 59, 36, 85, 127, 17, 66, 66, 31, 18, 58, 21, 8, 56, 99, 26, 14, 5, 20, 23, 10, 23, 29, 58, 84, 47, 60, 3, 52, 73, 59, 26, 18, 34, 24, 65, 10, 6, 174, 100, 53, 180, 25, 152, 16, 3, 76, 59, 104, 65, 12, 42, 6, 113, 15, 63, 85, 39, 35, 123, 13, 49, 24, 44, 22, 60, 230, 154, 31, 42, 10, 36, 9, 24, 19, 8, 26, 84, 6, 173, 55, 43, 68, 29, 4, 57, 76, 115, 72, 65, 13, 52, 82, 54, 11, 72, 46, 87, 56, 70, 175, 3, 40, 100, 37, 29]\n"
     ]
    }
   ],
   "source": [
    "# Populate Service-Times (ST) (where ST[i]!=0)\n",
    "\n",
    "while not len(ST) == total_people:\n",
    "    temp = np.random.exponential(1/ST_rate)*60*60\n",
    "    if not int(temp- temp%1)<1:\n",
    "        ST.append(int(temp - temp%1))\n",
    "\n",
    "print(ST)"
   ]
  },
  {
   "cell_type": "code",
   "execution_count": 9,
   "metadata": {},
   "outputs": [],
   "source": [
    "# save a copy of ST\n",
    "\n",
    "ST_copy = copy.deepcopy(ST)"
   ]
  },
  {
   "cell_type": "code",
   "execution_count": 10,
   "metadata": {},
   "outputs": [],
   "source": [
    "AT_new = []"
   ]
  },
  {
   "cell_type": "code",
   "execution_count": 11,
   "metadata": {},
   "outputs": [
    {
     "name": "stdout",
     "output_type": "stream",
     "text": [
      "[0, 0, 0, 0, 0, 0, 0, 0, 0, 0, 0, 85, 107, 109, 191, 227, 235, 255, 270, 276, 285, 285, 301, 335, 388, 544, 571, 623, 628, 635, 727, 782, 783, 814, 821, 905, 934, 987, 1003, 1009, 1011, 1039, 1059, 1078, 1093, 1161, 1171, 1177, 1185, 1209, 1245, 1256, 1306, 1343, 1372, 1392, 1398, 1410, 1446, 1519, 1579, 1596, 1629, 1668, 1689, 1716, 1738, 1784, 1795, 1843, 1855, 1881, 1908, 1953, 2043, 2089, 2099, 2111, 2117, 2119, 2130, 2215, 2277, 2290, 2324, 2337, 2354, 2406, 2414, 2442, 2508, 2579, 2602, 2639, 2820, 2838, 2949, 3022, 3042, 3070, 3109, 3134, 3134, 3134, 3158, 3173, 3215, 3220, 3222, 3238, 3238, 3251, 3251, 3289, 3326, 3369, 3400, 3408, 3420, 3427, 3435, 3462, 3479, 3505, 3506, 3511, 3593, 3598, 3639, 3673, 3685, 3689, 3715, 3737, 3750, 3785, 3794, 3795, 3802, 3926, 3926, 3942, 4000, 4019, 4039, 4086, 4102, 4108, 4166, 4166, 4171, 4185, 4188, 4193, 4199, 4209, 4276, 4288, 4302, 4310, 4351, 4359, 4393, 4409, 4412, 4473, 4503, 4516, 4521, 4535, 4589, 4690, 4739, 4784, 4798, 4856, 4892, 4928, 5006, 5017, 5034, 5043, 5060, 5063, 5066, 5067, 5198, 5214, 5251, 5314, 5348, 5421, 5424, 5451, 5512, 5534, 5568, 5587, 5685, 5734, 5742, 5766, 5775, 5778, 5787, 5845, 5878, 5940, 5988, 6119, 6137, 6229, 6311, 6358, 6391, 6487, 6536, 6568, 6580, 6653, 6673, 6711, 6820, 6823, 6880, 6904, 6912, 6965, 6971, 6996, 7004, 7005, 7044, 7048, 7052, 7101, 7226, 7272, 7272, 7303, 7306, 7310, 7350, 7365, 7380, 7385, 7441, 7451, 7462, 7491, 7507, 7511, 7518, 7527, 7547]\n"
     ]
    }
   ],
   "source": [
    "# Get new Arrival-Times (AT) from IAT starting at t=0 \n",
    "# 生成到达时间队列\n",
    "# and initialize Waiting-Times to 0\n",
    "\n",
    "for i in range(total_people):\n",
    "    if i<begin:\n",
    "        AT_new.append(0)\n",
    "        i=i+1\n",
    "    else:\n",
    "        AT_new.append(IAT_new[i]+AT_new[i-1])\n",
    "    wait_time.append(0)\n",
    "\n",
    "print(AT_new)\n"
   ]
  },
  {
   "cell_type": "code",
   "execution_count": 12,
   "metadata": {},
   "outputs": [],
   "source": [
    "# simulate M/M/1 queue\n",
    "\n",
    "for i in range(total_time*60*60):    \n",
    "    if server_busy:\n",
    "        for item in list(qu.queue):\n",
    "            wait_time[item] = wait_time[item] + 1\n",
    "        ST[curr_process] = ST[curr_process] - 1\n",
    "        if ST[curr_process] == 0:\n",
    "            server_busy = False\n",
    "            num_processes_served = num_processes_served + 1\n",
    "\n",
    "    for j in range(total_people):\n",
    "        if i== AT_new[j]:\n",
    "            qu.put(j)\n",
    "\n",
    "    if not server_busy and not qu.empty():\n",
    "        curr_process = qu.get()\n",
    "        server_busy = True\n",
    "        \n"
   ]
  },
  {
   "cell_type": "code",
   "execution_count": 13,
   "metadata": {},
   "outputs": [],
   "source": [
    "# 总共等待时间\n",
    "# 总共delay时间 = total time in the system \n",
    "# delay = waiting time + serve time\n",
    "sum_wait = 0\n",
    "sum_delay = 0"
   ]
  },
  {
   "cell_type": "code",
   "execution_count": 14,
   "metadata": {},
   "outputs": [],
   "source": [
    "for i in range(num_processes_served):\n",
    "    sum_wait = sum_wait + wait_time[i]\n",
    "    sum_delay = sum_delay + wait_time[i] + ST_copy[i]\n",
    "    \n",
    "if num_processes_served == 0:\n",
    "    list_wait.append(0)\n",
    "    list_delay.append(0)\n",
    "else:\n",
    "    list_wait.append(sum_wait/(num_processes_served*60*60))  \n",
    "    list_delay.append(sum_delay/(num_processes_served*60*60))\n"
   ]
  },
  {
   "cell_type": "code",
   "execution_count": 16,
   "metadata": {},
   "outputs": [
    {
     "name": "stdout",
     "output_type": "stream",
     "text": [
      "255\n",
      "244\n",
      "127\n",
      "0.4980392156862745\n"
     ]
    }
   ],
   "source": [
    "print(total_people)\n",
    "print(num_processes)\n",
    "print(num_processes_served)\n",
    "\n",
    "print(num_processes_served/total_people)"
   ]
  },
  {
   "cell_type": "code",
   "execution_count": 17,
   "metadata": {},
   "outputs": [
    {
     "name": "stdout",
     "output_type": "stream",
     "text": [
      "0.4548534558180227\n",
      "0.4704636920384952\n",
      "27.291207349081365\n",
      "28.22782152230971\n"
     ]
    }
   ],
   "source": [
    "#平均等待时间 in hour\n",
    "print(sum_wait/(num_processes_served*60*60))\n",
    "print(sum_delay/(num_processes_served*60*60))\n",
    "\n",
    "# 平均等待时间 in minute\n",
    "print(sum_wait/(num_processes_served*60))\n",
    "print(sum_delay/(num_processes_served*60))"
   ]
  },
  {
   "cell_type": "code",
   "execution_count": 23,
   "metadata": {},
   "outputs": [
    {
     "name": "stdout",
     "output_type": "stream",
     "text": [
      "65.21739130434783\n",
      "50.14673913043478\n"
     ]
    }
   ],
   "source": [
    "print((6000/worktime)*2)\n",
    "print(salary/worktime)"
   ]
  }
 ],
 "metadata": {
  "interpreter": {
   "hash": "959130ce67bcf0bac542abd884edbecea11cfa21a554847bc76324cd5126d901"
  },
  "kernelspec": {
   "display_name": "Python 3.7.12 ('py37')",
   "language": "python",
   "name": "python3"
  },
  "language_info": {
   "codemirror_mode": {
    "name": "ipython",
    "version": 3
   },
   "file_extension": ".py",
   "mimetype": "text/x-python",
   "name": "python",
   "nbconvert_exporter": "python",
   "pygments_lexer": "ipython3",
   "version": "3.7.12"
  },
  "orig_nbformat": 4
 },
 "nbformat": 4,
 "nbformat_minor": 2
}
