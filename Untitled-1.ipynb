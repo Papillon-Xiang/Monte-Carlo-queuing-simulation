{
 "cells": [
  {
   "cell_type": "code",
   "execution_count": 1,
   "metadata": {},
   "outputs": [],
   "source": [
    "import numpy as np\n",
    "import queue\n",
    "import copy\n",
    "import matplotlib.pyplot as plt\n"
   ]
  },
  {
   "cell_type": "code",
   "execution_count": 2,
   "metadata": {},
   "outputs": [],
   "source": [
    "# unit: hour\n",
    "#即核酸检测有两个小时的检测窗口 eg. 9-11 a.m. \n",
    "#假设所有人都在这个区间进行检测👉后续可以优化\n",
    "# simulation(hours)\n",
    "#arrival rate (/hour) i.e. 2 per min\n",
    "#service rate (/hour) 这里考虑改进前 即20s左右,每分钟三个人，每小时180个人\n",
    "\n",
    "total_time = 2\n",
    "IAT_rate = 120\n",
    "ST_rate = 180\n",
    "rho = IAT_rate/ST_rate"
   ]
  },
  {
   "cell_type": "code",
   "execution_count": 3,
   "metadata": {},
   "outputs": [],
   "source": [
    "# Initialize Parameters\n",
    "# IAT  empty array for putting random number inter-arrival time\n",
    "# St   ... for serving time rate\n",
    "# AT: arrival times\n",
    "# ST: serve time\n",
    "\n",
    "\n",
    "qu = queue.Queue()\n",
    "curr_process = None\n",
    "IAT = []\n",
    "ST = []\n",
    "AT = []\n",
    "wait_time = []\n",
    "server_busy = False\n",
    "list_wait = []\n",
    "list_delay = []\n"
   ]
  },
  {
   "cell_type": "code",
   "execution_count": 25,
   "metadata": {},
   "outputs": [
    {
     "name": "stdout",
     "output_type": "stream",
     "text": [
      "1.3333333333333333\n"
     ]
    }
   ],
   "source": [
    "#队伍长度\n",
    "\n",
    "L_q = (IAT_rate*IAT_rate)/(ST_rate*(ST_rate-IAT_rate))\n",
    "print(L_q)"
   ]
  },
  {
   "cell_type": "code",
   "execution_count": 27,
   "metadata": {},
   "outputs": [
    {
     "name": "stdout",
     "output_type": "stream",
     "text": [
      "2.0\n"
     ]
    }
   ],
   "source": [
    "# total queue length in the system\n",
    "L_s =  L_q + IAT_rate/ST_rate\n",
    "print(L_s)"
   ]
  },
  {
   "cell_type": "code",
   "execution_count": 26,
   "metadata": {},
   "outputs": [
    {
     "name": "stdout",
     "output_type": "stream",
     "text": [
      "0.6666666666666666\n"
     ]
    }
   ],
   "source": [
    "# utilization \n",
    "# 当只有一个核酸检测点时 lamda(effective) = lamda\n",
    "# c bar (expected number of busy serves) = lamda/ miu\n",
    "c = 1\n",
    "c_bar = IAT_rate/ST_rate\n",
    "utilization = c_bar/c\n",
    "print(utilization)"
   ]
  },
  {
   "cell_type": "code",
   "execution_count": 4,
   "metadata": {},
   "outputs": [
    {
     "name": "stdout",
     "output_type": "stream",
     "text": [
      "272\n"
     ]
    }
   ],
   "source": [
    "# num_processes 即一共有多少个人在检测窗口里来做核酸检测\n",
    "\n",
    "num_processes = int(np.random.poisson(IAT_rate)* total_time)\n",
    "num_processes_served = 0\n",
    "print(num_processes)"
   ]
  },
  {
   "cell_type": "code",
   "execution_count": 5,
   "metadata": {},
   "outputs": [
    {
     "name": "stdout",
     "output_type": "stream",
     "text": [
      "[0, 95, 35, 33, 3, 10, 2, 23, 53, 51, 11, 63, 1, 75, 78, 3, 47, 14, 79, 13, 73, 40, 16, 12, 8, 3, 114, 37, 22, 36, 47, 67, 32, 1, 62, 7, 68, 19, 1, 3, 22, 69, 51, 33, 12, 7, 20, 15, 39, 7, 22, 0, 68, 3, 30, 47, 3, 105, 110, 16, 31, 12, 34, 64, 56, 9, 6, 16, 111, 45, 3, 2, 49, 72, 1, 41, 48, 42, 31, 2, 11, 26, 26, 61, 9, 5, 14, 9, 2, 165, 0, 72, 14, 5, 53, 9, 4, 40, 37, 13, 3, 14, 9, 10, 10, 1, 9, 19, 49, 116, 23, 92, 73, 46, 12, 6, 10, 139, 21, 6, 32, 39, 26, 117, 118, 77, 57, 3, 32, 3, 17, 48, 8, 5, 51, 58, 38, 20, 34, 13, 6, 30, 13, 51, 14, 30, 21, 63, 45, 4, 48, 41, 23, 18, 45, 19, 41, 12, 25, 50, 17, 82, 15, 63, 57, 13, 58, 6, 81, 9, 15, 4, 10, 49, 19, 41, 38, 39, 10, 35, 57, 11, 60, 28, 2, 9, 20, 75, 2, 13, 0, 10, 9, 23, 29, 14, 38, 14, 23, 25, 16, 6, 38, 15, 11, 35, 0, 14, 78, 38, 25, 141, 7, 3, 9, 29, 58, 30, 28, 34, 25, 4, 19, 31, 45, 0, 9, 31, 0, 6, 2, 62, 8, 10, 27, 12, 32, 28, 28, 49, 67, 16, 61, 7, 95, 0, 19, 39, 44, 34, 96, 48, 15, 5, 6, 15, 39, 45, 3, 40, 0, 51, 63, 3, 53, 1, 65, 13, 36, 56, 2, 30]\n"
     ]
    }
   ],
   "source": [
    "# Populate Inter-Arrival-Times (IAT)\n",
    "for i in range(num_processes):\n",
    "    temp = np.random.exponential(1/IAT_rate)*60*60\n",
    "    if i==0:\n",
    "        IAT.append(0)\n",
    "    else:\n",
    "        IAT.append(int(temp - temp%1))\n",
    "\n",
    "print(IAT)"
   ]
  },
  {
   "cell_type": "code",
   "execution_count": 6,
   "metadata": {},
   "outputs": [
    {
     "name": "stdout",
     "output_type": "stream",
     "text": [
      "[34, 50, 4, 18, 15, 37, 35, 3, 42, 1, 12, 3, 38, 7, 3, 28, 20, 11, 69, 8, 136, 13, 23, 28, 6, 15, 28, 10, 10, 65, 28, 12, 14, 32, 11, 130, 15, 23, 27, 31, 10, 7, 33, 3, 23, 31, 21, 4, 36, 20, 6, 65, 39, 3, 30, 20, 11, 5, 55, 68, 49, 9, 39, 4, 9, 4, 40, 10, 11, 5, 4, 30, 7, 80, 45, 16, 16, 22, 2, 9, 8, 16, 5, 46, 5, 1, 18, 3, 15, 35, 37, 4, 9, 78, 30, 12, 7, 1, 26, 53, 87, 6, 76, 11, 29, 11, 116, 16, 26, 39, 19, 21, 1, 5, 61, 25, 31, 76, 9, 13, 9, 44, 16, 7, 4, 16, 10, 31, 18, 26, 51, 63, 14, 25, 19, 75, 5, 14, 21, 11, 14, 42, 1, 12, 42, 2, 65, 33, 37, 12, 1, 40, 18, 16, 23, 9, 16, 4, 8, 17, 11, 11, 8, 9, 42, 5, 10, 4, 6, 6, 21, 32, 14, 12, 18, 44, 87, 23, 6, 3, 9, 8, 8, 9, 2, 21, 16, 1, 37, 18, 5, 68, 41, 60, 29, 13, 13, 41, 34, 8, 19, 12, 26, 23, 20, 21, 11, 9, 15, 18, 14, 13, 1, 19, 16, 6, 19, 6, 3, 58, 30, 17, 7, 6, 1, 6, 16, 57, 33, 8, 19, 49, 1, 42, 20, 29, 7, 71, 2, 15, 63, 8, 1, 6, 12, 14, 2, 14, 4, 22, 8, 12, 40, 7, 9, 7, 11, 20, 42, 3, 3, 26, 3, 50, 13, 23, 18, 19, 12, 64, 10, 12]\n"
     ]
    }
   ],
   "source": [
    "# Populate Service-Times (ST) (where ST[i]!=0)\n",
    "\n",
    "while not len(ST) == num_processes:\n",
    "    temp = np.random.exponential(1/ST_rate)*60*60\n",
    "    if not int(temp- temp%1)<1:\n",
    "        ST.append(int(temp - temp%1))\n",
    "\n",
    "print(ST)\n"
   ]
  },
  {
   "cell_type": "code",
   "execution_count": 7,
   "metadata": {},
   "outputs": [],
   "source": [
    "# save a copy of ST\n",
    "\n",
    "ST_copy = copy.deepcopy(ST)"
   ]
  },
  {
   "cell_type": "code",
   "execution_count": 8,
   "metadata": {},
   "outputs": [],
   "source": [
    "# Get Arrival-Times (AT) from IAT starting at t=0 \n",
    "# 生成到达时间队列\n",
    "# and initialize Waiting-Times to 0\n",
    "\n",
    "for i in range(num_processes):\n",
    "    if i == 0:\n",
    "        AT.append(0)    \n",
    "    else:\n",
    "        AT.append(AT[i-1] + IAT[i])\n",
    "    wait_time.append(0)"
   ]
  },
  {
   "cell_type": "code",
   "execution_count": 9,
   "metadata": {},
   "outputs": [],
   "source": [
    "# simulate M/M/1 queue\n",
    "\n",
    "for i in range(total_time*60*60):    \n",
    "    if server_busy:\n",
    "        for item in list(qu.queue):\n",
    "            wait_time[item] = wait_time[item] + 1\n",
    "        ST[curr_process] = ST[curr_process] - 1\n",
    "        if ST[curr_process] == 0:\n",
    "            server_busy = False\n",
    "            num_processes_served = num_processes_served + 1\n",
    "\n",
    "    for j in range(num_processes):\n",
    "        if i== AT[j]:\n",
    "            qu.put(j)\n",
    "\n",
    "    if not server_busy and not qu.empty():\n",
    "        curr_process = qu.get()\n",
    "        server_busy = True\n"
   ]
  },
  {
   "cell_type": "code",
   "execution_count": 10,
   "metadata": {},
   "outputs": [],
   "source": [
    "# 总共等待时间\n",
    "# 总共delay时间 = total time in the system \n",
    "# delay = waiting time + serve time\n",
    "sum_wait = 0\n",
    "sum_delay = 0"
   ]
  },
  {
   "cell_type": "code",
   "execution_count": 11,
   "metadata": {},
   "outputs": [],
   "source": [
    "for i in range(num_processes_served):\n",
    "    sum_wait = sum_wait + wait_time[i]\n",
    "    sum_delay = sum_delay + wait_time[i] + ST_copy[i]\n",
    "    \n",
    "if num_processes_served == 0:\n",
    "    list_wait.append(0)\n",
    "    list_delay.append(0)\n",
    "else:\n",
    "    list_wait.append(sum_wait/(num_processes_served*60*60))  \n",
    "    list_delay.append(sum_delay/(num_processes_served*60*60))\n"
   ]
  },
  {
   "cell_type": "code",
   "execution_count": 17,
   "metadata": {},
   "outputs": [
    {
     "name": "stdout",
     "output_type": "stream",
     "text": [
      "[0, 0, 15, 0, 15, 20, 55, 67, 17, 8, 0, 0, 2, 0, 0, 0, 0, 6, 0, 56, 0, 96, 93, 104, 124, 127, 28, 19, 7, 0, 18, 0, 0, 13, 0, 4, 66, 62, 84, 108, 117, 58, 14, 14, 5, 21, 32, 38, 3, 32, 30, 36, 33, 69, 42, 25, 42, 0, 0, 39, 76, 113, 88, 63, 11, 11, 9, 33, 0, 0, 2, 4, 0, 0, 79, 83, 51, 25, 16, 16, 14, 0, 0, 0, 37, 37, 24, 33, 34, 0, 35, 0, 0, 4, 29, 50, 58, 25, 0, 13, 63, 136, 133, 199, 200, 228, 230, 327, 294, 204, 220, 147, 95, 50, 43, 98, 113, 5, 60, 63, 44, 14, 32, 0, 0, 0, 0, 7, 6, 21, 30, 33, 88, 97, 71, 32, 69, 54, 34, 42, 47, 31, 60, 10, 8, 20, 1, 3, 0, 33, 0, 0, 17, 17, 0, 4, 0, 4, 0, 0, 0, 0, 0, 0, 0, 29, 0, 4, 0, 0, 0, 17, 39, 4, 0, 0, 6, 54, 67, 38, 0, 0, 0, 0, 7, 0, 1, 0, 0, 24, 42, 37, 96, 114, 145, 160, 135, 134, 152, 161, 153, 166, 140, 151, 163, 148, 169, 166, 97, 74, 67, 0, 6, 4, 14, 1, 0, 0, 0, 0, 33, 59, 57, 33, 0, 0, 0, 0, 0, 0, 0, 0, 0, 0, 0, 0, 0, 0, 0, 0, 0, 0, 0, 0, 0, 0, 0, 0, 0, 0, 0, 0, 0, 0, 0, 0, 0, 0, 0, 0, 0, 0, 0, 0, 0, 0, 0, 0, 0, 0, 0, 0]\n"
     ]
    }
   ],
   "source": [
    "print(wait_time)"
   ]
  },
  {
   "cell_type": "code",
   "execution_count": 23,
   "metadata": {},
   "outputs": [
    {
     "name": "stdout",
     "output_type": "stream",
     "text": [
      "0.012341803687095167\n",
      "0.018781763826606877\n",
      "44.4304932735426\n"
     ]
    }
   ],
   "source": [
    "#平均等待时间 in hour\n",
    "print(sum_wait/(num_processes_served*60*60))\n",
    "print(sum_delay/(num_processes_served*60*60))\n",
    "\n",
    "# 平均等待时间 in minute\n",
    "print(sum_wait/num_processes_served)"
   ]
  },
  {
   "cell_type": "code",
   "execution_count": 29,
   "metadata": {},
   "outputs": [
    {
     "name": "stdout",
     "output_type": "stream",
     "text": [
      "165.51086956521738\n"
     ]
    }
   ],
   "source": [
    "# 单位仍选择为小时\n",
    "# total cost = service cost + waiting cost \n",
    "# ETC(x) = EOC(x) + EWC (x)\n",
    "# average salary of Beijing: 9227 per month\n",
    "# 假设每月抛去四个周末，有效工作日为31-8=23天\n",
    "# 假设每天有效工作时长为8小时\n",
    "# 根据以上两个假设算时薪\n",
    "worktime = 23*8\n",
    "nurse_salary = 6000\n",
    "salary = 9227\n",
    "EOC = (nurse_salary/worktime) * total_time  # 建议改一下👈\n",
    "EWC = (salary/worktime)* L_s\n",
    "ETC = EOC + EWC\n",
    "\n",
    "print(ETC)\n"
   ]
  }
 ],
 "metadata": {
  "interpreter": {
   "hash": "959130ce67bcf0bac542abd884edbecea11cfa21a554847bc76324cd5126d901"
  },
  "kernelspec": {
   "display_name": "Python 3.7.12 ('py37')",
   "language": "python",
   "name": "python3"
  },
  "language_info": {
   "codemirror_mode": {
    "name": "ipython",
    "version": 3
   },
   "file_extension": ".py",
   "mimetype": "text/x-python",
   "name": "python",
   "nbconvert_exporter": "python",
   "pygments_lexer": "ipython3",
   "version": "3.7.12"
  },
  "orig_nbformat": 4
 },
 "nbformat": 4,
 "nbformat_minor": 2
}
