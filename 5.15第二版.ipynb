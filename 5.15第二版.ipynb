{
 "cells": [
  {
   "cell_type": "code",
   "execution_count": 39,
   "metadata": {},
   "outputs": [],
   "source": [
    "import numpy as np\n",
    "import queue\n",
    "import copy\n",
    "import matplotlib.pyplot as plt\n"
   ]
  },
  {
   "cell_type": "code",
   "execution_count": 40,
   "metadata": {},
   "outputs": [
    {
     "name": "stdout",
     "output_type": "stream",
     "text": [
      "23\n"
     ]
    }
   ],
   "source": [
    "# unit: hour\n",
    "#即核酸检测有两个小时的检测窗口 eg. 9-11 a.m. \n",
    "#假设所有人都在这个区间进行检测👉后续可以优化\n",
    "# simulation(hours)\n",
    "#arrival rate (/hour) i.e. 2 per min\n",
    "#service rate (/hour) 这里考虑改进前 即25s左右\n",
    "#我们假设在正式检测开始之前，已经有人开始排队👉即这里的‘begin', 是一个0-30之间的随机整数\n",
    "#number of server\n",
    "\n",
    "begin = np.random.randint(0,30)\n",
    "c = 1\n",
    "total_time = 2\n",
    "IAT_rate = 120\n",
    "ST_rate = 144*c\n",
    "rho = IAT_rate/ST_rate\n",
    "print(begin)"
   ]
  },
  {
   "cell_type": "code",
   "execution_count": 41,
   "metadata": {},
   "outputs": [],
   "source": [
    "# Initialize Parameters\n",
    "# IAT  empty array for putting random number inter-arrival time\n",
    "# St   ... for serving time rate\n",
    "# AT: arrival times\n",
    "# ST: serve time\n",
    "\n",
    "\n",
    "qu = queue.Queue()\n",
    "curr_process = None\n",
    "IAT = []\n",
    "ST = []\n",
    "AT = []\n",
    "wait_time = []\n",
    "server_busy = False\n",
    "list_wait = []\n",
    "list_delay = []\n"
   ]
  },
  {
   "cell_type": "code",
   "execution_count": 21,
   "metadata": {},
   "outputs": [
    {
     "name": "stdout",
     "output_type": "stream",
     "text": [
      "1.3333333333333333\n"
     ]
    }
   ],
   "source": [
    "#队伍长度\n",
    "\n",
    "L_q = (IAT_rate*IAT_rate)/(ST_rate*(ST_rate-IAT_rate))\n",
    "print(L_q)"
   ]
  },
  {
   "cell_type": "code",
   "execution_count": 5,
   "metadata": {},
   "outputs": [
    {
     "name": "stdout",
     "output_type": "stream",
     "text": [
      "2.0\n"
     ]
    }
   ],
   "source": [
    "# total queue length in the system\n",
    "L_s =  L_q + IAT_rate/ST_rate\n",
    "print(L_s)"
   ]
  },
  {
   "cell_type": "code",
   "execution_count": 22,
   "metadata": {},
   "outputs": [
    {
     "name": "stdout",
     "output_type": "stream",
     "text": [
      "0.6666666666666666\n"
     ]
    }
   ],
   "source": [
    "# utilization \n",
    "# 当只有一个核酸检测点时 lamda(effective) = lamda\n",
    "# c bar (expected number of busy serves) = lamda/ miu\n",
    "c_bar = IAT_rate/ST_rate\n",
    "utilization = c_bar/c\n",
    "print(utilization)"
   ]
  },
  {
   "cell_type": "code",
   "execution_count": 42,
   "metadata": {},
   "outputs": [
    {
     "name": "stdout",
     "output_type": "stream",
     "text": [
      "270\n",
      "23\n",
      "293\n"
     ]
    }
   ],
   "source": [
    "# num_processes 即一共有多少个人在检测窗口里来做核酸检测\n",
    "\n",
    "num_processes = int(np.random.poisson(IAT_rate)* total_time) \n",
    "total_people = num_processes + begin\n",
    "num_processes_served = 0\n",
    "print(num_processes)\n",
    "print(begin)\n",
    "print(total_people)"
   ]
  },
  {
   "cell_type": "code",
   "execution_count": 43,
   "metadata": {},
   "outputs": [],
   "source": [
    "# Populate Inter-Arrival-Times (IAT)\n",
    "\n",
    "for i in range(num_processes):\n",
    "    temp = np.random.exponential(1/IAT_rate)*60*60\n",
    "    if i==0:\n",
    "        IAT.append(0)\n",
    "    else:\n",
    "        IAT.append(int(temp - temp%1))\n"
   ]
  },
  {
   "cell_type": "code",
   "execution_count": 44,
   "metadata": {},
   "outputs": [],
   "source": [
    "IAT_new = []"
   ]
  },
  {
   "cell_type": "code",
   "execution_count": 45,
   "metadata": {},
   "outputs": [
    {
     "name": "stdout",
     "output_type": "stream",
     "text": [
      "[0, 0, 0, 0, 0, 0, 0, 0, 0, 0, 0, 0, 0, 0, 0, 0, 0, 0, 0, 0, 0, 0, 0, 17, 21, 1, 1, 17, 32, 2, 2, 1, 28, 24, 27, 75, 26, 26, 15, 16, 61, 53, 89, 29, 82, 19, 10, 2, 0, 21, 61, 0, 6, 0, 18, 4, 13, 14, 6, 6, 4, 26, 5, 78, 33, 14, 86, 28, 25, 34, 20, 4, 2, 6, 54, 121, 30, 3, 26, 2, 74, 20, 32, 23, 15, 34, 33, 27, 18, 4, 69, 13, 71, 34, 13, 18, 14, 71, 3, 40, 32, 27, 108, 9, 81, 44, 18, 80, 32, 23, 111, 16, 26, 22, 3, 103, 11, 1, 62, 43, 3, 40, 4, 40, 29, 49, 65, 36, 7, 44, 0, 10, 19, 55, 53, 1, 17, 11, 8, 5, 1, 10, 5, 20, 27, 20, 59, 0, 0, 8, 33, 26, 82, 24, 9, 14, 41, 16, 94, 9, 1, 8, 20, 9, 203, 2, 11, 50, 45, 6, 6, 8, 9, 55, 8, 22, 21, 60, 43, 30, 24, 27, 45, 23, 7, 4, 16, 0, 44, 13, 68, 5, 34, 0, 11, 39, 16, 50, 24, 90, 4, 24, 12, 4, 36, 9, 16, 3, 39, 48, 2, 44, 29, 22, 14, 3, 24, 7, 42, 35, 85, 40, 41, 92, 31, 31, 122, 7, 16, 34, 29, 23, 48, 67, 4, 11, 24, 13, 19, 79, 122, 32, 22, 21, 128, 14, 105, 29, 7, 63, 0, 1, 44, 30, 10, 54, 1, 45, 3, 16, 9, 14, 8, 1, 43, 9, 70, 5, 82, 8, 7, 4, 13, 14, 69, 66, 4, 78, 59, 5, 12, 91, 139, 6, 47, 30, 19, 42, 85, 71, 4, 45, 35]\n"
     ]
    }
   ],
   "source": [
    "#Populate new Inter-Arrival-Times (IAT_new)\n",
    "#即在正式检测开始之前到达的人的inter arrival time=0\n",
    "\n",
    "for i in range(total_people):\n",
    "    temp = np.random.exponential(1/IAT_rate)*60*60\n",
    "    if i<begin:\n",
    "        IAT_new.append(0)\n",
    "        i=i+1\n",
    "    else: \n",
    "        IAT_new.append(int(temp-temp%1))\n",
    "\n",
    "print(IAT_new)\n"
   ]
  },
  {
   "cell_type": "code",
   "execution_count": 46,
   "metadata": {},
   "outputs": [
    {
     "name": "stdout",
     "output_type": "stream",
     "text": [
      "[22, 46, 23, 46, 5, 3, 4, 4, 4, 20, 25, 13, 14, 42, 46, 1, 14, 5, 27, 61, 16, 13, 4, 14, 10, 33, 29, 55, 22, 88, 6, 31, 10, 19, 16, 4, 19, 37, 1, 20, 29, 29, 7, 1, 46, 12, 53, 6, 18, 56, 12, 8, 3, 13, 86, 18, 38, 5, 7, 3, 49, 153, 4, 2, 2, 24, 4, 40, 30, 3, 12, 9, 6, 9, 7, 98, 18, 23, 54, 6, 28, 33, 7, 29, 7, 47, 2, 14, 31, 18, 43, 13, 19, 10, 16, 48, 44, 8, 44, 49, 51, 2, 32, 5, 7, 9, 1, 12, 187, 54, 33, 45, 100, 17, 16, 2, 27, 58, 12, 10, 53, 19, 6, 54, 39, 12, 109, 24, 13, 66, 13, 23, 8, 7, 1, 5, 8, 19, 38, 23, 81, 3, 10, 4, 16, 19, 7, 26, 79, 11, 74, 45, 7, 50, 85, 3, 33, 25, 11, 8, 9, 36, 1, 3, 46, 45, 3, 29, 12, 16, 3, 13, 21, 34, 49, 17, 25, 13, 4, 18, 11, 24, 23, 20, 34, 56, 10, 67, 16, 42, 75, 23, 14, 41, 5, 37, 6, 29, 2, 48, 16, 10, 63, 15, 35, 21, 13, 8, 16, 24, 55, 1, 9, 19, 4, 1, 32, 13, 62, 1, 43, 3, 42, 2, 34, 90, 59, 49, 15, 8, 20, 76, 41, 43, 8, 2, 9, 7, 14, 12, 60, 51, 30, 35, 24, 32, 38, 6, 3, 55, 6, 16, 17, 8, 15, 43, 36, 61, 7, 39, 15, 6, 5, 23, 44, 15, 15, 14, 4, 2, 14, 9, 12, 2, 3, 25, 10, 6, 94, 19, 31, 18, 64, 32, 11, 4, 2, 50, 128, 5, 17, 32, 3]\n"
     ]
    }
   ],
   "source": [
    "# Populate Service-Times (ST) (where ST[i]!=0)\n",
    "\n",
    "while not len(ST) == total_people:\n",
    "    temp = np.random.exponential(1/ST_rate)*60*60\n",
    "    if not int(temp- temp%1)<1:\n",
    "        ST.append(int(temp - temp%1))\n",
    "\n",
    "print(ST)"
   ]
  },
  {
   "cell_type": "code",
   "execution_count": 47,
   "metadata": {},
   "outputs": [],
   "source": [
    "# save a copy of ST\n",
    "\n",
    "ST_copy = copy.deepcopy(ST)"
   ]
  },
  {
   "cell_type": "code",
   "execution_count": 48,
   "metadata": {},
   "outputs": [],
   "source": [
    "AT_new = []"
   ]
  },
  {
   "cell_type": "code",
   "execution_count": 49,
   "metadata": {},
   "outputs": [
    {
     "name": "stdout",
     "output_type": "stream",
     "text": [
      "[0, 0, 0, 0, 0, 0, 0, 0, 0, 0, 0, 0, 0, 0, 0, 0, 0, 0, 0, 0, 0, 0, 0, 17, 38, 39, 40, 57, 89, 91, 93, 94, 122, 146, 173, 248, 274, 300, 315, 331, 392, 445, 534, 563, 645, 664, 674, 676, 676, 697, 758, 758, 764, 764, 782, 786, 799, 813, 819, 825, 829, 855, 860, 938, 971, 985, 1071, 1099, 1124, 1158, 1178, 1182, 1184, 1190, 1244, 1365, 1395, 1398, 1424, 1426, 1500, 1520, 1552, 1575, 1590, 1624, 1657, 1684, 1702, 1706, 1775, 1788, 1859, 1893, 1906, 1924, 1938, 2009, 2012, 2052, 2084, 2111, 2219, 2228, 2309, 2353, 2371, 2451, 2483, 2506, 2617, 2633, 2659, 2681, 2684, 2787, 2798, 2799, 2861, 2904, 2907, 2947, 2951, 2991, 3020, 3069, 3134, 3170, 3177, 3221, 3221, 3231, 3250, 3305, 3358, 3359, 3376, 3387, 3395, 3400, 3401, 3411, 3416, 3436, 3463, 3483, 3542, 3542, 3542, 3550, 3583, 3609, 3691, 3715, 3724, 3738, 3779, 3795, 3889, 3898, 3899, 3907, 3927, 3936, 4139, 4141, 4152, 4202, 4247, 4253, 4259, 4267, 4276, 4331, 4339, 4361, 4382, 4442, 4485, 4515, 4539, 4566, 4611, 4634, 4641, 4645, 4661, 4661, 4705, 4718, 4786, 4791, 4825, 4825, 4836, 4875, 4891, 4941, 4965, 5055, 5059, 5083, 5095, 5099, 5135, 5144, 5160, 5163, 5202, 5250, 5252, 5296, 5325, 5347, 5361, 5364, 5388, 5395, 5437, 5472, 5557, 5597, 5638, 5730, 5761, 5792, 5914, 5921, 5937, 5971, 6000, 6023, 6071, 6138, 6142, 6153, 6177, 6190, 6209, 6288, 6410, 6442, 6464, 6485, 6613, 6627, 6732, 6761, 6768, 6831, 6831, 6832, 6876, 6906, 6916, 6970, 6971, 7016, 7019, 7035, 7044, 7058, 7066, 7067, 7110, 7119, 7189, 7194, 7276, 7284, 7291, 7295, 7308, 7322, 7391, 7457, 7461, 7539, 7598, 7603, 7615, 7706, 7845, 7851, 7898, 7928, 7947, 7989, 8074, 8145, 8149, 8194, 8229]\n"
     ]
    }
   ],
   "source": [
    "# Get new Arrival-Times (AT) from IAT starting at t=0 \n",
    "# 生成到达时间队列\n",
    "# and initialize Waiting-Times to 0\n",
    "\n",
    "for i in range(total_people):\n",
    "    if i<begin:\n",
    "        AT_new.append(0)\n",
    "        i=i+1\n",
    "    else:\n",
    "        AT_new.append(IAT_new[i]+AT_new[i-1])\n",
    "    wait_time.append(0)\n",
    "\n",
    "print(AT_new)\n"
   ]
  },
  {
   "cell_type": "code",
   "execution_count": 50,
   "metadata": {},
   "outputs": [],
   "source": [
    "# simulate M/M/1 queue\n",
    "\n",
    "for i in range(total_time*60*60):    \n",
    "    if server_busy:\n",
    "        for item in list(qu.queue):\n",
    "            wait_time[item] = wait_time[item] + 1\n",
    "        ST[curr_process] = ST[curr_process] - 1\n",
    "        if ST[curr_process] == 0:\n",
    "            server_busy = False\n",
    "            num_processes_served = num_processes_served + 1\n",
    "\n",
    "    for j in range(total_people):\n",
    "        if i== AT_new[j]:\n",
    "            qu.put(j)\n",
    "\n",
    "    if not server_busy and not qu.empty():\n",
    "        curr_process = qu.get()\n",
    "        server_busy = True\n",
    "        \n"
   ]
  },
  {
   "cell_type": "code",
   "execution_count": 51,
   "metadata": {},
   "outputs": [],
   "source": [
    "# 总共等待时间\n",
    "# 总共delay时间 = total time in the system \n",
    "# delay = waiting time + serve time\n",
    "sum_wait = 0\n",
    "sum_delay = 0"
   ]
  },
  {
   "cell_type": "code",
   "execution_count": 52,
   "metadata": {},
   "outputs": [
    {
     "name": "stdout",
     "output_type": "stream",
     "text": [
      "263\n"
     ]
    }
   ],
   "source": [
    "print(num_processes_served)"
   ]
  },
  {
   "cell_type": "code",
   "execution_count": 53,
   "metadata": {},
   "outputs": [],
   "source": [
    "for i in range(num_processes_served):\n",
    "    sum_wait = sum_wait + wait_time[i]\n",
    "    sum_delay = sum_delay + wait_time[i] + ST_copy[i]\n",
    "    \n",
    "if num_processes_served == 0:\n",
    "    list_wait.append(0)\n",
    "    list_delay.append(0)\n",
    "else:\n",
    "    list_wait.append(sum_wait/(num_processes_served*60*60))  \n",
    "    list_delay.append(sum_delay/(num_processes_served*60*60))\n"
   ]
  },
  {
   "cell_type": "code",
   "execution_count": 54,
   "metadata": {},
   "outputs": [
    {
     "name": "stdout",
     "output_type": "stream",
     "text": [
      "293\n",
      "23\n",
      "270\n",
      "263\n"
     ]
    }
   ],
   "source": [
    "print(total_people)\n",
    "print(begin)\n",
    "print(num_processes)\n",
    "print(num_processes_served)"
   ]
  },
  {
   "cell_type": "code",
   "execution_count": 57,
   "metadata": {},
   "outputs": [
    {
     "name": "stdout",
     "output_type": "stream",
     "text": [
      "0.06475390790029573\n",
      "0.07192015209125475\n",
      "3.885234474017744\n"
     ]
    }
   ],
   "source": [
    "#平均等待时间 in hour\n",
    "print(sum_wait/(num_processes_served*60*60))\n",
    "print(sum_delay/(num_processes_served*60*60))\n",
    "\n",
    "# 平均等待时间 in minute\n",
    "print(sum_wait/(num_processes_served*60))"
   ]
  },
  {
   "cell_type": "code",
   "execution_count": 58,
   "metadata": {},
   "outputs": [
    {
     "ename": "NameError",
     "evalue": "name 'L_s' is not defined",
     "output_type": "error",
     "traceback": [
      "\u001b[1;31m---------------------------------------------------------------------------\u001b[0m",
      "\u001b[1;31mNameError\u001b[0m                                 Traceback (most recent call last)",
      "\u001b[1;32m<ipython-input-58-4f6802a5db9b>\u001b[0m in \u001b[0;36m<module>\u001b[1;34m\u001b[0m\n\u001b[0;32m     10\u001b[0m \u001b[0msalary\u001b[0m \u001b[1;33m=\u001b[0m \u001b[1;36m9227\u001b[0m\u001b[1;33m\u001b[0m\u001b[1;33m\u001b[0m\u001b[0m\n\u001b[0;32m     11\u001b[0m \u001b[0mEOC\u001b[0m \u001b[1;33m=\u001b[0m \u001b[1;33m(\u001b[0m\u001b[0mnurse_salary\u001b[0m\u001b[1;33m/\u001b[0m\u001b[0mworktime\u001b[0m\u001b[1;33m)\u001b[0m \u001b[1;33m*\u001b[0m \u001b[0mtotal_time\u001b[0m\u001b[1;33m*\u001b[0m\u001b[0mc\u001b[0m\u001b[1;33m\u001b[0m\u001b[1;33m\u001b[0m\u001b[0m\n\u001b[1;32m---> 12\u001b[1;33m \u001b[0mEWC\u001b[0m \u001b[1;33m=\u001b[0m \u001b[1;33m(\u001b[0m\u001b[0msalary\u001b[0m\u001b[1;33m/\u001b[0m\u001b[0mworktime\u001b[0m\u001b[1;33m)\u001b[0m\u001b[1;33m*\u001b[0m \u001b[0mL_s\u001b[0m\u001b[1;33m\u001b[0m\u001b[1;33m\u001b[0m\u001b[0m\n\u001b[0m\u001b[0;32m     13\u001b[0m \u001b[0mETC\u001b[0m \u001b[1;33m=\u001b[0m \u001b[0mEOC\u001b[0m \u001b[1;33m+\u001b[0m \u001b[0mEWC\u001b[0m\u001b[1;33m\u001b[0m\u001b[1;33m\u001b[0m\u001b[0m\n\u001b[0;32m     14\u001b[0m \u001b[1;33m\u001b[0m\u001b[0m\n",
      "\u001b[1;31mNameError\u001b[0m: name 'L_s' is not defined"
     ]
    }
   ],
   "source": [
    "# 单位仍选择为小时\n",
    "# total cost = service cost + waiting cost \n",
    "# ETC(x) = EOC(x) + EWC (x)\n",
    "# average salary of Beijing: 9227 per month\n",
    "# 假设每月抛去四个周末，有效工作日为31-8=23天\n",
    "# 假设每天有效工作时长为8小时\n",
    "# 根据以上两个假设算时薪\n",
    "worktime = 23*8\n",
    "nurse_salary = 6000\n",
    "salary = 9227\n",
    "EOC = (nurse_salary/worktime) * total_time*c \n",
    "EWC = (salary/worktime)* L_s\n",
    "ETC = EOC + EWC\n",
    "\n",
    "print(ETC)\n"
   ]
  },
  {
   "cell_type": "code",
   "execution_count": 23,
   "metadata": {},
   "outputs": [
    {
     "name": "stdout",
     "output_type": "stream",
     "text": [
      "65.21739130434783\n",
      "50.14673913043478\n"
     ]
    }
   ],
   "source": [
    "print((6000/worktime)*2)\n",
    "print(salary/worktime)"
   ]
  }
 ],
 "metadata": {
  "interpreter": {
   "hash": "959130ce67bcf0bac542abd884edbecea11cfa21a554847bc76324cd5126d901"
  },
  "kernelspec": {
   "display_name": "Python 3.7.12 ('py37')",
   "language": "python",
   "name": "python3"
  },
  "language_info": {
   "codemirror_mode": {
    "name": "ipython",
    "version": 3
   },
   "file_extension": ".py",
   "mimetype": "text/x-python",
   "name": "python",
   "nbconvert_exporter": "python",
   "pygments_lexer": "ipython3",
   "version": "3.7.12"
  },
  "orig_nbformat": 4
 },
 "nbformat": 4,
 "nbformat_minor": 2
}
