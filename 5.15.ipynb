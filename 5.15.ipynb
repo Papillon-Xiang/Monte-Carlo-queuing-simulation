{
 "cells": [
  {
   "cell_type": "code",
   "execution_count": 2,
   "metadata": {},
   "outputs": [],
   "source": [
    "import numpy as np\n",
    "import queue\n",
    "import copy\n",
    "import matplotlib.pyplot as plt\n"
   ]
  },
  {
   "cell_type": "code",
   "execution_count": 3,
   "metadata": {},
   "outputs": [
    {
     "name": "stdout",
     "output_type": "stream",
     "text": [
      "17\n"
     ]
    }
   ],
   "source": [
    "# unit: hour\n",
    "#即核酸检测有两个小时的检测窗口 eg. 9-11 a.m. \n",
    "#假设所有人都在这个区间进行检测👉后续可以优化\n",
    "# simulation(hours)\n",
    "#arrival rate (/hour) i.e. 2 per min\n",
    "#service rate (/hour) 这里考虑改进前 即20s左右,每分钟三个人，每小时180个人\n",
    "#我们假设在正式检测开始之前，已经有人开始排队👉即这里的‘begin', 是一个0-30之间的随机整数\n",
    "begin = np.random.randint(0,30)\n",
    "c = 1\n",
    "total_time = 2\n",
    "IAT_rate = 120\n",
    "ST_rate = 180*c\n",
    "rho = IAT_rate/ST_rate\n",
    "print(begin)"
   ]
  },
  {
   "cell_type": "code",
   "execution_count": 4,
   "metadata": {},
   "outputs": [],
   "source": [
    "# Initialize Parameters\n",
    "# IAT  empty array for putting random number inter-arrival time\n",
    "# St   ... for serving time rate\n",
    "# AT: arrival times\n",
    "# ST: serve time\n",
    "\n",
    "\n",
    "qu = queue.Queue()\n",
    "curr_process = None\n",
    "IAT = []\n",
    "ST = []\n",
    "AT = []\n",
    "wait_time = []\n",
    "server_busy = False\n",
    "list_wait = []\n",
    "list_delay = []\n"
   ]
  },
  {
   "cell_type": "code",
   "execution_count": 21,
   "metadata": {},
   "outputs": [
    {
     "name": "stdout",
     "output_type": "stream",
     "text": [
      "1.3333333333333333\n"
     ]
    }
   ],
   "source": [
    "#队伍长度\n",
    "\n",
    "L_q = (IAT_rate*IAT_rate)/(ST_rate*(ST_rate-IAT_rate))\n",
    "print(L_q)"
   ]
  },
  {
   "cell_type": "code",
   "execution_count": 5,
   "metadata": {},
   "outputs": [
    {
     "name": "stdout",
     "output_type": "stream",
     "text": [
      "2.0\n"
     ]
    }
   ],
   "source": [
    "# total queue length in the system\n",
    "L_s =  L_q + IAT_rate/ST_rate\n",
    "print(L_s)"
   ]
  },
  {
   "cell_type": "code",
   "execution_count": 22,
   "metadata": {},
   "outputs": [
    {
     "name": "stdout",
     "output_type": "stream",
     "text": [
      "0.6666666666666666\n"
     ]
    }
   ],
   "source": [
    "# utilization \n",
    "# 当只有一个核酸检测点时 lamda(effective) = lamda\n",
    "# c bar (expected number of busy serves) = lamda/ miu\n",
    "c_bar = IAT_rate/ST_rate\n",
    "utilization = c_bar/c\n",
    "print(utilization)"
   ]
  },
  {
   "cell_type": "code",
   "execution_count": 5,
   "metadata": {},
   "outputs": [
    {
     "name": "stdout",
     "output_type": "stream",
     "text": [
      "266\n",
      "17\n",
      "283\n"
     ]
    }
   ],
   "source": [
    "# num_processes 即一共有多少个人在检测窗口里来做核酸检测\n",
    "\n",
    "num_processes = int(np.random.poisson(IAT_rate)* total_time) \n",
    "total_people = num_processes + begin\n",
    "num_processes_served = 0\n",
    "print(num_processes)\n",
    "print(begin)\n",
    "print(total_people)"
   ]
  },
  {
   "cell_type": "code",
   "execution_count": 6,
   "metadata": {},
   "outputs": [],
   "source": [
    "# Populate Inter-Arrival-Times (IAT)\n",
    "# inter-arrival-time of 在核酸检测正式开始后来的人 保持不变\n",
    "for i in range(num_processes):\n",
    "    temp = np.random.exponential(1/IAT_rate)*60*60\n",
    "    if i==0:\n",
    "        IAT.append(0)\n",
    "    else:\n",
    "        IAT.append(int(temp - temp%1))\n"
   ]
  },
  {
   "cell_type": "code",
   "execution_count": 7,
   "metadata": {},
   "outputs": [],
   "source": [
    "IAT_new = []"
   ]
  },
  {
   "cell_type": "code",
   "execution_count": 8,
   "metadata": {},
   "outputs": [
    {
     "name": "stdout",
     "output_type": "stream",
     "text": [
      "[0, 0, 0, 0, 0, 0, 0, 0, 0, 0, 0, 0, 0, 0, 0, 0, 0, 128, 7, 19, 13, 5, 21, 49, 18, 15, 16, 11, 15, 30, 15, 4, 25, 8, 1, 12, 4, 1, 43, 14, 4, 64, 50, 10, 27, 3, 2, 80, 6, 5, 15, 17, 39, 37, 21, 12, 26, 5, 28, 12, 12, 126, 91, 20, 18, 19, 82, 10, 32, 17, 20, 18, 6, 68, 76, 98, 19, 19, 21, 16, 13, 7, 28, 19, 16, 1, 56, 23, 43, 22, 20, 51, 9, 29, 25, 24, 15, 27, 26, 156, 25, 14, 81, 44, 5, 67, 1, 21, 5, 19, 3, 25, 14, 34, 31, 34, 0, 11, 0, 49, 2, 38, 6, 1, 7, 16, 37, 49, 58, 25, 41, 104, 49, 12, 21, 31, 2, 38, 5, 56, 28, 19, 33, 34, 19, 41, 6, 31, 12, 5, 112, 2, 8, 0, 17, 27, 16, 0, 0, 41, 6, 63, 14, 32, 13, 7, 41, 55, 33, 84, 23, 47, 24, 74, 27, 10, 3, 18, 39, 64, 36, 7, 22, 23, 5, 70, 90, 39, 32, 43, 1, 4, 60, 93, 3, 3, 5, 31, 60, 8, 48, 1, 44, 4, 131, 11, 107, 56, 44, 34, 60, 10, 30, 12, 13, 3, 64, 11, 45, 27, 2, 30, 17, 27, 61, 9, 7, 13, 5, 52, 69, 12, 103, 1, 4, 0, 159, 6, 13, 46, 18, 0, 62, 124, 19, 137, 69, 105, 2, 0, 5, 17, 84, 30, 17, 0, 47, 6, 57, 49, 26, 29, 16, 35, 10, 4, 41, 12, 116, 2, 20, 0, 18, 31, 41, 12, 3, 21, 8, 12, 84, 5, 51]\n"
     ]
    }
   ],
   "source": [
    "for i in range(total_people):\n",
    "    temp = np.random.exponential(1/IAT_rate)*60*60\n",
    "    if i<begin:\n",
    "        IAT_new.append(0)\n",
    "        i=i+1\n",
    "    else: \n",
    "        IAT_new.append(int(temp-temp%1))\n",
    "\n",
    "print(IAT_new)\n"
   ]
  },
  {
   "cell_type": "code",
   "execution_count": 9,
   "metadata": {},
   "outputs": [
    {
     "name": "stdout",
     "output_type": "stream",
     "text": [
      "[5, 6, 4, 18, 51, 21, 25, 13, 12, 10, 41, 15, 6, 8, 24, 8, 36, 3, 24, 36, 19, 13, 6, 11, 9, 1, 15, 60, 4, 9, 1, 22, 9, 9, 18, 3, 8, 13, 11, 9, 64, 28, 5, 87, 1, 21, 5, 25, 10, 2, 6, 12, 20, 41, 26, 1, 53, 11, 3, 37, 25, 14, 2, 2, 25, 4, 29, 2, 31, 2, 7, 8, 5, 17, 5, 1, 39, 55, 3, 15, 18, 30, 28, 8, 4, 15, 5, 2, 7, 4, 12, 23, 16, 2, 3, 1, 21, 2, 34, 63, 35, 19, 25, 10, 44, 46, 24, 4, 10, 22, 4, 3, 40, 5, 18, 42, 9, 21, 5, 2, 32, 19, 13, 8, 1, 4, 12, 14, 3, 2, 42, 6, 35, 25, 14, 7, 41, 39, 51, 4, 15, 21, 17, 21, 27, 25, 4, 5, 18, 3, 14, 5, 4, 8, 14, 30, 32, 29, 4, 4, 3, 3, 57, 23, 2, 7, 7, 1, 32, 31, 3, 85, 36, 7, 9, 2, 25, 12, 8, 5, 1, 7, 31, 24, 6, 4, 48, 12, 55, 4, 17, 9, 28, 29, 12, 28, 20, 7, 5, 10, 38, 41, 17, 4, 12, 19, 44, 24, 24, 33, 3, 17, 69, 9, 64, 64, 3, 8, 85, 1, 14, 12, 24, 9, 28, 3, 28, 18, 4, 28, 7, 22, 12, 21, 14, 10, 44, 14, 1, 11, 14, 25, 2, 10, 76, 38, 1, 32, 8, 5, 3, 11, 16, 2, 4, 8, 11, 31, 4, 46, 4, 4, 3, 19, 19, 7, 7, 13, 16, 12, 13, 62, 42, 1, 40, 2, 10, 6, 2, 3, 20, 20, 3]\n"
     ]
    }
   ],
   "source": [
    "# Populate Service-Times (ST) (where ST[i]!=0)\n",
    "\n",
    "while not len(ST) == total_people:\n",
    "    temp = np.random.exponential(1/ST_rate)*60*60\n",
    "    if not int(temp- temp%1)<1:\n",
    "        ST.append(int(temp - temp%1))\n",
    "\n",
    "print(ST)"
   ]
  },
  {
   "cell_type": "code",
   "execution_count": 29,
   "metadata": {},
   "outputs": [],
   "source": [
    "# save a copy of ST\n",
    "\n",
    "ST_copy = copy.deepcopy(ST)"
   ]
  },
  {
   "cell_type": "code",
   "execution_count": 49,
   "metadata": {},
   "outputs": [],
   "source": [
    "AT_new = []"
   ]
  },
  {
   "cell_type": "code",
   "execution_count": 50,
   "metadata": {},
   "outputs": [
    {
     "name": "stdout",
     "output_type": "stream",
     "text": [
      "[0, 0, 0, 0, 0, 0, 0, 0, 0, 0, 0, 0, 0, 0, 0, 0, 0, 128, 135, 154, 167, 172, 193, 242, 260, 275, 291, 302, 317, 347, 362, 366, 391, 399, 400, 412, 416, 417, 460, 474, 478, 542, 592, 602, 629, 632, 634, 714, 720, 725, 740, 757, 796, 833, 854, 866, 892, 897, 925, 937, 949, 1075, 1166, 1186, 1204, 1223, 1305, 1315, 1347, 1364, 1384, 1402, 1408, 1476, 1552, 1650, 1669, 1688, 1709, 1725, 1738, 1745, 1773, 1792, 1808, 1809, 1865, 1888, 1931, 1953, 1973, 2024, 2033, 2062, 2087, 2111, 2126, 2153, 2179, 2335, 2360, 2374, 2455, 2499, 2504, 2571, 2572, 2593, 2598, 2617, 2620, 2645, 2659, 2693, 2724, 2758, 2758, 2769, 2769, 2818, 2820, 2858, 2864, 2865, 2872, 2888, 2925, 2974, 3032, 3057, 3098, 3202, 3251, 3263, 3284, 3315, 3317, 3355, 3360, 3416, 3444, 3463, 3496, 3530, 3549, 3590, 3596, 3627, 3639, 3644, 3756, 3758, 3766, 3766, 3783, 3810, 3826, 3826, 3826, 3867, 3873, 3936, 3950, 3982, 3995, 4002, 4043, 4098, 4131, 4215, 4238, 4285, 4309, 4383, 4410, 4420, 4423, 4441, 4480, 4544, 4580, 4587, 4609, 4632, 4637, 4707, 4797, 4836, 4868, 4911, 4912, 4916, 4976, 5069, 5072, 5075, 5080, 5111, 5171, 5179, 5227, 5228, 5272, 5276, 5407, 5418, 5525, 5581, 5625, 5659, 5719, 5729, 5759, 5771, 5784, 5787, 5851, 5862, 5907, 5934, 5936, 5966, 5983, 6010, 6071, 6080, 6087, 6100, 6105, 6157, 6226, 6238, 6341, 6342, 6346, 6346, 6505, 6511, 6524, 6570, 6588, 6588, 6650, 6774, 6793, 6930, 6999, 7104, 7106, 7106, 7111, 7128, 7212, 7242, 7259, 7259, 7306, 7312, 7369, 7418, 7444, 7473, 7489, 7524, 7534, 7538, 7579, 7591, 7707, 7709, 7729, 7729, 7747, 7778, 7819, 7831, 7834, 7855, 7863, 7875, 7959, 7964, 8015]\n"
     ]
    }
   ],
   "source": [
    "# Get Arrival-Times (AT) from IAT starting at t=0 \n",
    "# 生成到达时间队列\n",
    "# and initialize Waiting-Times to 0\n",
    "\n",
    "for i in range(total_people):\n",
    "    if i<begin:\n",
    "        AT_new.append(0)\n",
    "        i=i+1\n",
    "    else:\n",
    "        AT_new.append(IAT_new[i]+AT_new[i-1])\n",
    "    wait_time.append(0)\n",
    "\n",
    "print(AT_new)\n"
   ]
  },
  {
   "cell_type": "code",
   "execution_count": 51,
   "metadata": {},
   "outputs": [],
   "source": [
    "# simulate M/M/1 queue\n",
    "\n",
    "for i in range(total_time*60*60):    \n",
    "    if server_busy:\n",
    "        for item in list(qu.queue):\n",
    "            wait_time[item] = wait_time[item] + 1\n",
    "        ST[curr_process] = ST[curr_process] - 1\n",
    "        if ST[curr_process] == 0:\n",
    "            server_busy = False\n",
    "            num_processes_served = num_processes_served + 1\n",
    "\n",
    "    for j in range(num_processes):\n",
    "        if i== AT[j]:\n",
    "            qu.put(j)\n",
    "\n",
    "    if not server_busy and not qu.empty():\n",
    "        curr_process = qu.get()\n",
    "        server_busy = True\n",
    "        \n"
   ]
  },
  {
   "cell_type": "code",
   "execution_count": 52,
   "metadata": {},
   "outputs": [],
   "source": [
    "# 总共等待时间\n",
    "# 总共delay时间 = total time in the system \n",
    "# delay = waiting time + serve time\n",
    "sum_wait = 0\n",
    "sum_delay = 0"
   ]
  },
  {
   "cell_type": "code",
   "execution_count": 53,
   "metadata": {},
   "outputs": [],
   "source": [
    "for i in range(num_processes_served):\n",
    "    sum_wait = sum_wait + wait_time[i]\n",
    "    sum_delay = sum_delay + wait_time[i] + ST_copy[i]\n",
    "    \n",
    "if num_processes_served == 0:\n",
    "    list_wait.append(0)\n",
    "    list_delay.append(0)\n",
    "else:\n",
    "    list_wait.append(sum_wait/(num_processes_served*60*60))  \n",
    "    list_delay.append(sum_delay/(num_processes_served*60*60))\n"
   ]
  },
  {
   "cell_type": "code",
   "execution_count": 55,
   "metadata": {},
   "outputs": [
    {
     "name": "stdout",
     "output_type": "stream",
     "text": [
      "0.007080610021786492\n",
      "0.01207843137254902\n",
      "25.49019607843137\n"
     ]
    }
   ],
   "source": [
    "#平均等待时间 in hour\n",
    "print(sum_wait/(num_processes_served*60*60))\n",
    "print(sum_delay/(num_processes_served*60*60))\n",
    "\n",
    "# 平均等待时间 in second\n",
    "print(sum_wait/num_processes_served)"
   ]
  },
  {
   "cell_type": "code",
   "execution_count": 20,
   "metadata": {},
   "outputs": [
    {
     "name": "stdout",
     "output_type": "stream",
     "text": [
      "165.51086956521738\n"
     ]
    }
   ],
   "source": [
    "# 单位仍选择为小时\n",
    "# total cost = service cost + waiting cost \n",
    "# ETC(x) = EOC(x) + EWC (x)\n",
    "# average salary of Beijing: 9227 per month\n",
    "# 假设每月抛去四个周末，有效工作日为31-8=23天\n",
    "# 假设每天有效工作时长为8小时\n",
    "# 根据以上两个假设算时薪\n",
    "worktime = 23*8\n",
    "nurse_salary = 6000\n",
    "salary = 9227\n",
    "EOC = (nurse_salary/worktime) * total_time*c \n",
    "EWC = (salary/worktime)* L_s\n",
    "ETC = EOC + EWC\n",
    "\n",
    "print(ETC)\n"
   ]
  },
  {
   "cell_type": "code",
   "execution_count": 23,
   "metadata": {},
   "outputs": [
    {
     "name": "stdout",
     "output_type": "stream",
     "text": [
      "65.21739130434783\n",
      "50.14673913043478\n"
     ]
    }
   ],
   "source": [
    "print((6000/worktime)*2)\n",
    "print(salary/worktime)"
   ]
  }
 ],
 "metadata": {
  "interpreter": {
   "hash": "959130ce67bcf0bac542abd884edbecea11cfa21a554847bc76324cd5126d901"
  },
  "kernelspec": {
   "display_name": "Python 3.7.12 ('py37')",
   "language": "python",
   "name": "python3"
  },
  "language_info": {
   "codemirror_mode": {
    "name": "ipython",
    "version": 3
   },
   "file_extension": ".py",
   "mimetype": "text/x-python",
   "name": "python",
   "nbconvert_exporter": "python",
   "pygments_lexer": "ipython3",
   "version": "3.7.12"
  },
  "orig_nbformat": 4
 },
 "nbformat": 4,
 "nbformat_minor": 2
}
